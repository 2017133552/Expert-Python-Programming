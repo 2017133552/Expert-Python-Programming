{
 "cells": [
  {
   "cell_type": "markdown",
   "metadata": {},
   "source": [
    "## 2.1.2集合类型\n",
    "内置集合类型，选择合理可高效解决许多问题；\n",
    "问题的答案==选择正确的数据结构"
   ]
  },
  {
   "cell_type": "markdown",
   "metadata": {},
   "source": [
    "### 2.1.2.1列表与元组\n",
    "表示对象序列\n",
    "根本区别：列表是动态的，其大小可以改变；元组是不可变的--**故而是可哈希的**，一旦创建就不能修改\n",
    "\n"
   ]
  }
 ],
 "metadata": {
  "kernelspec": {
   "display_name": "opendl",
   "language": "python",
   "name": "python3"
  },
  "language_info": {
   "name": "python",
   "version": "3.10.14"
  }
 },
 "nbformat": 4,
 "nbformat_minor": 2
}
